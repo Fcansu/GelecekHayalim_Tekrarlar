{
 "cells": [
  {
   "cell_type": "markdown",
   "metadata": {},
   "source": [
    "# 28Kasım Tekrarı "
   ]
  },
  {
   "cell_type": "code",
   "execution_count": 5,
   "metadata": {},
   "outputs": [],
   "source": [
    "import numpy as np"
   ]
  },
  {
   "cell_type": "code",
   "execution_count": 6,
   "metadata": {},
   "outputs": [],
   "source": [
    "# Bu hücrede sigmoidin ve sigmoid fonksiyonunun türevinin ne olduğunu yazdık.\n",
    "\n",
    "def sigmoid(x):\n",
    "    return 1/ (1+ np.exp(-x))\n"
   ]
  },
  {
   "cell_type": "code",
   "execution_count": 7,
   "metadata": {},
   "outputs": [],
   "source": [
    "def türev_sigmoid(x):\n",
    "    return sigmoid(x) * (1- sigmoid(x))\n"
   ]
  },
  {
   "cell_type": "code",
   "execution_count": 25,
   "metadata": {},
   "outputs": [],
   "source": [
    "# loss, cost ve error aynı şeyi ifade ediyor. Bulduğumuz sonuç ile gerçek sonuç arasındaki farkın karesi ile buluyoruz.\n",
    "def loss(y_expected, y_predicted):\n",
    "    return (y_predicted- y_expected) **2\n",
    "\n",
    "def loss_türevi(y_expected, y_predicted):\n",
    "    return 2* (y_expected - y_predicted)"
   ]
  },
  {
   "cell_type": "code",
   "execution_count": 14,
   "metadata": {},
   "outputs": [],
   "source": [
    "# Ağırlıklar şu şekilde\n",
    "w1 = 0.7\n",
    "w2 = 0.3\n",
    "w3 = 0.4\n",
    "w4 = 0.6 \n",
    "w5 = 0.55\n",
    "w6 = 0.45"
   ]
  },
  {
   "cell_type": "code",
   "execution_count": 16,
   "metadata": {},
   "outputs": [],
   "source": [
    "# üç iç içe fonksiyon yazıyoruz.\n",
    "def l1f1(x1,x2):\n",
    "    l1_sonuc = x1* w1 + x2* w3\n",
    "    return sigmoid(l1_sonuc)\n",
    "def l1f2(x1,x2):\n",
    "    l2_sonuc = x2 *w3 + x2* w4\n",
    "    return sigmoid(l2_sonuc)\n",
    "\n",
    "def of1(x1,x2):\n",
    "    of_sonuc = x1* w5 + x2* w6\n",
    "    return sigmoid(of_sonuc)\n"
   ]
  },
  {
   "cell_type": "code",
   "execution_count": 17,
   "metadata": {},
   "outputs": [],
   "source": [
    "# giriş katmanımızdaki değerlerimiz\n",
    "\n",
    "i1 = 0.5\n",
    "i2 = 0.3"
   ]
  },
  {
   "cell_type": "code",
   "execution_count": 22,
   "metadata": {},
   "outputs": [
    {
     "name": "stdout",
     "output_type": "stream",
     "text": [
      "Sonuç: 0.645 Kayıp: 0.126\n"
     ]
    }
   ],
   "source": [
    "# Bizim örneğimizde iki hoca sınav değerlendiriyor. İki hoca var, birisi Mustafa hoca birisi Ali Hoca\n",
    "\n",
    "mustafa_hoca = l1f1(i1,i2)\n",
    "ali_hoca = l1f2(i1,i2)\n",
    "\n",
    "final_deger = of1(mustafa_hoca, ali_hoca)\n",
    "kayip = loss(1, final_deger)\n",
    "\n",
    "print(\"Sonuç:\", round(final_deger,3), \"Kayıp:\", round(kayip, 3))"
   ]
  },
  {
   "cell_type": "code",
   "execution_count": 26,
   "metadata": {},
   "outputs": [
    {
     "name": "stdout",
     "output_type": "stream",
     "text": [
      "dC_o1: 0.710078919918294\n"
     ]
    }
   ],
   "source": [
    "# Sonucumuzu bulduk şimdi geriye dönüyoruz.\n",
    "\n",
    "dC_o1 = loss_türevi(1, final_deger)\n",
    "print(\"dC_o1:\", dC_o1)"
   ]
  },
  {
   "cell_type": "code",
   "execution_count": 27,
   "metadata": {},
   "outputs": [
    {
     "name": "stdout",
     "output_type": "stream",
     "text": [
      "do1_sigmoid: 0.2257033163817078\n"
     ]
    }
   ],
   "source": [
    "do1_sigmoid = türev_sigmoid(final_deger)\n",
    "print(\"do1_sigmoid:\", do1_sigmoid)"
   ]
  },
  {
   "cell_type": "code",
   "execution_count": 29,
   "metadata": {},
   "outputs": [
    {
     "name": "stdout",
     "output_type": "stream",
     "text": [
      "do1_w5: 0.6153837563911821 do1_w6: 0.574442516811659\n"
     ]
    }
   ],
   "source": [
    "do1_w5 = mustafa_hoca\n",
    "do1_w6 = ali_hoca\n",
    "print(\"do1_w5:\",do1_w5 ,\"do1_w6:\", do1_w6)"
   ]
  },
  {
   "cell_type": "code",
   "execution_count": 30,
   "metadata": {},
   "outputs": [
    {
     "name": "stdout",
     "output_type": "stream",
     "text": [
      "dC_w5: 0.09862581132743284 dC_w6: 0.09206427484171105\n"
     ]
    }
   ],
   "source": [
    "# Burada zincir kuralı var. Çıkan sonuca beşinci ağırlığın etkisini bulmak için türev aldık. Aynısı altıncı ağırlık için de geçerli.\n",
    "dC_w5 = dC_o1 * do1_sigmoid * do1_w5\n",
    "dC_w6 = dC_o1 * do1_sigmoid * do1_w6\n",
    "\n",
    "print (\"dC_w5:\", dC_w5, \"dC_w6:\", dC_w6)"
   ]
  },
  {
   "cell_type": "code",
   "execution_count": 31,
   "metadata": {},
   "outputs": [
    {
     "name": "stdout",
     "output_type": "stream",
     "text": [
      "do1_mustafa_hoca: 0.55 do1_ali_hoca: 0.45\n"
     ]
    }
   ],
   "source": [
    "# Mustafa hocanın sonuca etkisi w5 ağırlığı kadarken Ali hocanın etkisi w6 kadar.\n",
    "do1_mustafa_hoca = w5\n",
    "do1_ali_hoca = w6\n",
    "\n",
    "print(\"do1_mustafa_hoca:\",do1_mustafa_hoca, \"do1_ali_hoca:\", do1_ali_hoca)\n"
   ]
  },
  {
   "cell_type": "code",
   "execution_count": 32,
   "metadata": {},
   "outputs": [
    {
     "name": "stdout",
     "output_type": "stream",
     "text": [
      "dmustafa_hoca_sigmoid: 0.22774892885225095 dali_hoca_sigmoid: 0.23045941863851033\n"
     ]
    }
   ],
   "source": [
    "dmustafa_hoca_sigmoid = türev_sigmoid(mustafa_hoca)\n",
    "dali_hoca_sigmoid = türev_sigmoid(ali_hoca)\n",
    "\n",
    "print (\"dmustafa_hoca_sigmoid:\",dmustafa_hoca_sigmoid, \"dali_hoca_sigmoid:\", dali_hoca_sigmoid)"
   ]
  },
  {
   "cell_type": "code",
   "execution_count": 33,
   "metadata": {},
   "outputs": [
    {
     "name": "stdout",
     "output_type": "stream",
     "text": [
      "do1_mustafa_hoca: 0.08814694191506503 do1_ali_hoca: 0.07212022520323502\n"
     ]
    }
   ],
   "source": [
    "#Mustafa hocanın çıkan sonuca etkisine bakıyoruz.\n",
    "do1_mustafa_hoca = dC_o1 * do1_sigmoid * do1_mustafa_hoca\n",
    "do1_ali_hoca = dC_o1 * do1_sigmoid * do1_ali_hoca\n",
    "\n",
    "print(\"do1_mustafa_hoca:\", do1_mustafa_hoca, \"do1_ali_hoca:\",do1_ali_hoca)"
   ]
  },
  {
   "cell_type": "code",
   "execution_count": null,
   "metadata": {},
   "outputs": [],
   "source": [
    "dC_w1 = dC_"
   ]
  }
 ],
 "metadata": {
  "kernelspec": {
   "display_name": "base",
   "language": "python",
   "name": "python3"
  },
  "language_info": {
   "codemirror_mode": {
    "name": "ipython",
    "version": 3
   },
   "file_extension": ".py",
   "mimetype": "text/x-python",
   "name": "python",
   "nbconvert_exporter": "python",
   "pygments_lexer": "ipython3",
   "version": "3.12.7"
  }
 },
 "nbformat": 4,
 "nbformat_minor": 2
}
